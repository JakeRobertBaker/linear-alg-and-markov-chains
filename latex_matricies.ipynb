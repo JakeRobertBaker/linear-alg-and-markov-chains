{
 "cells": [
  {
   "cell_type": "code",
   "execution_count": 1,
   "metadata": {},
   "outputs": [],
   "source": [
    "import sympy as sp"
   ]
  },
  {
   "cell_type": "code",
   "execution_count": 5,
   "metadata": {},
   "outputs": [],
   "source": [
    "D = 7\n",
    "lam = sp.symbols(r\"\\lambda\")\n",
    "top_row = sp.symbols([f\"b_{i+1}\" for i in range(D)][::-1])\n",
    "\n",
    "middle_rows = [sp.eye(D).row(i) for i in range(D - 1)]\n",
    "null_eye = sp.eye(7)\n",
    "null_eye[0, 0] = 0\n",
    "\n",
    "B = sp.Matrix([top_row] + middle_rows) - lam * null_eye"
   ]
  },
  {
   "cell_type": "code",
   "execution_count": 7,
   "metadata": {},
   "outputs": [
    {
     "name": "stdout",
     "output_type": "stream",
     "text": [
      "\\left[\\begin{matrix}\n",
      "b_{7} & b_{6} & b_{5} & b_{4} & b_{3} & b_{2} & b_{1}\n",
      "\\\\\n",
      "1 & - \\lambda & 0 & 0 & 0 & 0 & 0\n",
      "\\\\\n",
      "0 & 1 & - \\lambda & 0 & 0 & 0 & 0\n",
      "\\\\\n",
      "0 & 0 & 1 & - \\lambda & 0 & 0 & 0\n",
      "\\\\\n",
      "0 & 0 & 0 & 1 & - \\lambda & 0 & 0\n",
      "\\\\\n",
      "0 & 0 & 0 & 0 & 1 & - \\lambda & 0\n",
      "\\\\\n",
      "0 & 0 & 0 & 0 & 0 & 1 & - \\lambda\\end{matrix}\n",
      "\\right]\n"
     ]
    }
   ],
   "source": [
    "B_latex_str = sp.latex(B)\n",
    "B_latex_str_mod = B_latex_str.replace(r\"\\\\\", \"\\n\" + r\"\\\\\" + \"\\n\")\n",
    "B_latex_str_mod = B_latex_str_mod.replace(r\"{matrix}\", r\"{matrix}\" + \"\\n\")\n",
    "print(B_latex_str_mod)"
   ]
  }
 ],
 "metadata": {
  "kernelspec": {
   "display_name": ".venv",
   "language": "python",
   "name": "python3"
  },
  "language_info": {
   "codemirror_mode": {
    "name": "ipython",
    "version": 3
   },
   "file_extension": ".py",
   "mimetype": "text/x-python",
   "name": "python",
   "nbconvert_exporter": "python",
   "pygments_lexer": "ipython3",
   "version": "3.12.5"
  }
 },
 "nbformat": 4,
 "nbformat_minor": 2
}
