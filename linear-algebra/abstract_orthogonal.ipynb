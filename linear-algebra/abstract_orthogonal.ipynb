{
 "cells": [
  {
   "cell_type": "code",
   "execution_count": 1,
   "metadata": {},
   "outputs": [],
   "source": [
    "import sympy as sp\n",
    "from tqdm import tqdm"
   ]
  },
  {
   "cell_type": "code",
   "execution_count": 2,
   "metadata": {},
   "outputs": [],
   "source": [
    "def abstract_Gram_Schmidt(inner_product, v_basis, normalise=True):\n",
    "\n",
    "    m = len(v_basis)\n",
    "    f_norms_squared = [0] * m\n",
    "    f_basis = [0] * m\n",
    "\n",
    "    f_basis[0] = v_basis[0]\n",
    "    f_norms_squared[0] = inner_product(f_basis[0], f_basis[0])\n",
    "\n",
    "    for k in tqdm(range(1, m)):\n",
    "        v_k = v_basis[k]\n",
    "        # f_k is the k+1 th elment therefore f_components has size k\n",
    "        f_components = [inner_product(v_k, f_basis[j]) * f_basis[j] / f_norms_squared[j] for j in range(k)]\n",
    "        f_components_sum = sum(f_components)\n",
    "\n",
    "        f_basis[k] = v_k - f_components_sum\n",
    "        f_norms_squared[k] = inner_product(f_basis[k], f_basis[k])\n",
    "\n",
    "    if not normalise:\n",
    "        return f_basis\n",
    "\n",
    "    e_basis = [f / sp.sqrt(f2) for f, f2 in zip(f_basis, f_norms_squared)]\n",
    "\n",
    "    return e_basis"
   ]
  },
  {
   "cell_type": "code",
   "execution_count": 3,
   "metadata": {},
   "outputs": [],
   "source": [
    "def abstract_Gram_Schmidt_live(inner_product, v_basis, debug=False):\n",
    "    m = len(v_basis)\n",
    "    f_basis = [0] * m\n",
    "    e_basis = [0] * m\n",
    "\n",
    "    f_basis[0] = v_basis[0]\n",
    "    e_basis[0] = f_basis[0] / sp.sqrt(inner_product(f_basis[0], f_basis[0]))\n",
    "\n",
    "    # k = 2, ... ,m         in math becomes\n",
    "    # k = 1, ..., m - 1     in python\n",
    "    for k in tqdm(range(1, m)):\n",
    "        v_k = v_basis[k]\n",
    "        # f_k is the k+1 th elment therefore f_components has size k\n",
    "        e_components = [inner_product(v_k, e_basis[j]) * e_basis[j] for j in range(k)]\n",
    "        e_components_sum = sum(e_components)\n",
    "\n",
    "        f_basis[k] = v_k - e_components_sum\n",
    "        norm_f_k = sp.sqrt(inner_product(f_basis[k], f_basis[k]))\n",
    "\n",
    "        e_basis[k] = f_basis[k] / norm_f_k\n",
    "\n",
    "        if debug:\n",
    "            print(\"-\" * 20)\n",
    "            print(\"e components\")\n",
    "            display(e_components)\n",
    "            print(\"f_k\")\n",
    "            display(f_basis[k])\n",
    "            print(\"f_k norm\")\n",
    "            display(norm_f_k)\n",
    "            print(\"e_k\")\n",
    "            print(e_basis[k])\n",
    "\n",
    "    return e_basis"
   ]
  },
  {
   "cell_type": "code",
   "execution_count": 4,
   "metadata": {},
   "outputs": [
    {
     "name": "stdout",
     "output_type": "stream",
     "text": [
      "<class 'sympy.core.symbol.Symbol'>\n"
     ]
    },
    {
     "data": {
      "text/latex": [
       "$\\displaystyle \\left[\\begin{matrix}1 & x & x^{2} & x^{3} & x^{4} & x^{5} & x^{6} & x^{7} & x^{8} & x^{9}\\end{matrix}\\right]$"
      ],
      "text/plain": [
       "Matrix([[1, x, x**2, x**3, x**4, x**5, x**6, x**7, x**8, x**9]])"
      ]
     },
     "metadata": {},
     "output_type": "display_data"
    }
   ],
   "source": [
    "n = 10\n",
    "x = sp.symbols('x')\n",
    "print(type(x))\n",
    "\n",
    "v_basis = [x**i for i in range(n)]\n",
    "\n",
    "display(sp.Matrix(v_basis).T)"
   ]
  },
  {
   "cell_type": "code",
   "execution_count": 5,
   "metadata": {},
   "outputs": [],
   "source": [
    "def integral_inner_product(p, q, lower_bound=-1, upper_bound=1):\n",
    "    \"\"\"Compute the innter product as defined as the intergral\n",
    "    between functions p and q.\n",
    "\n",
    "    Args:\n",
    "        p: sympy expression\n",
    "        q: sympy expression\n",
    "    \"\"\"\n",
    "    return sp.integrate(p * q, (x, -1, 1))"
   ]
  },
  {
   "cell_type": "code",
   "execution_count": 6,
   "metadata": {},
   "outputs": [],
   "source": [
    "def integrate_minus_1_to_1(p, q):\n",
    "    return integral_inner_product(p, q, -1, 1)"
   ]
  },
  {
   "cell_type": "code",
   "execution_count": 7,
   "metadata": {},
   "outputs": [
    {
     "name": "stderr",
     "output_type": "stream",
     "text": [
      "100%|██████████| 9/9 [00:00<00:00, 28.29it/s]\n"
     ]
    },
    {
     "data": {
      "text/latex": [
       "$\\displaystyle \\left[\\begin{matrix}\\frac{\\sqrt{2}}{2} & \\frac{\\sqrt{6} x}{2} & \\frac{3 \\sqrt{10} \\left(x^{2} - \\frac{1}{3}\\right)}{4} & \\frac{5 \\sqrt{14} \\left(x^{3} - \\frac{3 x}{5}\\right)}{4} & \\frac{105 \\sqrt{2} \\left(x^{4} - \\frac{6 x^{2}}{7} + \\frac{3}{35}\\right)}{16} & \\frac{63 \\sqrt{22} \\left(x^{5} - \\frac{10 x^{3}}{9} + \\frac{5 x}{21}\\right)}{16} & \\frac{231 \\sqrt{26} \\left(x^{6} - \\frac{15 x^{4}}{11} + \\frac{5 x^{2}}{11} - \\frac{5}{231}\\right)}{32} & \\frac{429 \\sqrt{30} \\left(x^{7} - \\frac{21 x^{5}}{13} + \\frac{105 x^{3}}{143} - \\frac{35 x}{429}\\right)}{32} & \\frac{6435 \\sqrt{34} \\left(x^{8} - \\frac{28 x^{6}}{15} + \\frac{14 x^{4}}{13} - \\frac{28 x^{2}}{143} + \\frac{7}{1287}\\right)}{256} & \\frac{12155 \\sqrt{38} \\left(x^{9} - \\frac{36 x^{7}}{17} + \\frac{126 x^{5}}{85} - \\frac{84 x^{3}}{221} + \\frac{63 x}{2431}\\right)}{256}\\end{matrix}\\right]$"
      ],
      "text/plain": [
       "Matrix([[sqrt(2)/2, sqrt(6)*x/2, 3*sqrt(10)*(x**2 - 1/3)/4, 5*sqrt(14)*(x**3 - 3*x/5)/4, 105*sqrt(2)*(x**4 - 6*x**2/7 + 3/35)/16, 63*sqrt(22)*(x**5 - 10*x**3/9 + 5*x/21)/16, 231*sqrt(26)*(x**6 - 15*x**4/11 + 5*x**2/11 - 5/231)/32, 429*sqrt(30)*(x**7 - 21*x**5/13 + 105*x**3/143 - 35*x/429)/32, 6435*sqrt(34)*(x**8 - 28*x**6/15 + 14*x**4/13 - 28*x**2/143 + 7/1287)/256, 12155*sqrt(38)*(x**9 - 36*x**7/17 + 126*x**5/85 - 84*x**3/221 + 63*x/2431)/256]])"
      ]
     },
     "metadata": {},
     "output_type": "display_data"
    }
   ],
   "source": [
    "a_basis = abstract_Gram_Schmidt(inner_product=integrate_minus_1_to_1, v_basis=v_basis)\n",
    "display(sp.Matrix(a_basis).T)"
   ]
  },
  {
   "cell_type": "code",
   "execution_count": 8,
   "metadata": {},
   "outputs": [
    {
     "name": "stderr",
     "output_type": "stream",
     "text": [
      "100%|██████████| 9/9 [00:00<00:00, 23.22it/s]\n"
     ]
    },
    {
     "data": {
      "text/latex": [
       "$\\displaystyle \\left[\\begin{matrix}\\frac{\\sqrt{2}}{2} & \\frac{\\sqrt{6} x}{2} & \\frac{3 \\sqrt{10} \\left(x^{2} - \\frac{1}{3}\\right)}{4} & \\frac{5 \\sqrt{14} \\left(x^{3} - \\frac{3 x}{5}\\right)}{4} & \\frac{105 \\sqrt{2} \\left(x^{4} - \\frac{6 x^{2}}{7} + \\frac{3}{35}\\right)}{16} & \\frac{63 \\sqrt{22} \\left(x^{5} - \\frac{10 x^{3}}{9} + \\frac{5 x}{21}\\right)}{16} & \\frac{231 \\sqrt{26} \\left(x^{6} - \\frac{15 x^{4}}{11} + \\frac{5 x^{2}}{11} - \\frac{5}{231}\\right)}{32} & \\frac{429 \\sqrt{30} \\left(x^{7} - \\frac{21 x^{5}}{13} + \\frac{105 x^{3}}{143} - \\frac{35 x}{429}\\right)}{32} & \\frac{6435 \\sqrt{34} \\left(x^{8} - \\frac{28 x^{6}}{15} + \\frac{14 x^{4}}{13} - \\frac{28 x^{2}}{143} + \\frac{7}{1287}\\right)}{256} & \\frac{12155 \\sqrt{38} \\left(x^{9} - \\frac{36 x^{7}}{17} + \\frac{126 x^{5}}{85} - \\frac{84 x^{3}}{221} + \\frac{63 x}{2431}\\right)}{256}\\end{matrix}\\right]$"
      ],
      "text/plain": [
       "Matrix([[sqrt(2)/2, sqrt(6)*x/2, 3*sqrt(10)*(x**2 - 1/3)/4, 5*sqrt(14)*(x**3 - 3*x/5)/4, 105*sqrt(2)*(x**4 - 6*x**2/7 + 3/35)/16, 63*sqrt(22)*(x**5 - 10*x**3/9 + 5*x/21)/16, 231*sqrt(26)*(x**6 - 15*x**4/11 + 5*x**2/11 - 5/231)/32, 429*sqrt(30)*(x**7 - 21*x**5/13 + 105*x**3/143 - 35*x/429)/32, 6435*sqrt(34)*(x**8 - 28*x**6/15 + 14*x**4/13 - 28*x**2/143 + 7/1287)/256, 12155*sqrt(38)*(x**9 - 36*x**7/17 + 126*x**5/85 - 84*x**3/221 + 63*x/2431)/256]])"
      ]
     },
     "metadata": {},
     "output_type": "display_data"
    }
   ],
   "source": [
    "a_basis = abstract_Gram_Schmidt_live(inner_product=integrate_minus_1_to_1, v_basis=v_basis)\n",
    "display(sp.Matrix(a_basis).T)"
   ]
  },
  {
   "cell_type": "code",
   "execution_count": null,
   "metadata": {},
   "outputs": [],
   "source": []
  }
 ],
 "metadata": {
  "kernelspec": {
   "display_name": ".venv",
   "language": "python",
   "name": "python3"
  },
  "language_info": {
   "codemirror_mode": {
    "name": "ipython",
    "version": 3
   },
   "file_extension": ".py",
   "mimetype": "text/x-python",
   "name": "python",
   "nbconvert_exporter": "python",
   "pygments_lexer": "ipython3",
   "version": "3.12.5"
  }
 },
 "nbformat": 4,
 "nbformat_minor": 2
}
