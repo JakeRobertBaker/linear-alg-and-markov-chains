{
 "cells": [
  {
   "cell_type": "code",
   "execution_count": 1,
   "metadata": {},
   "outputs": [],
   "source": [
    "import sympy as sp"
   ]
  },
  {
   "cell_type": "code",
   "execution_count": 16,
   "metadata": {},
   "outputs": [
    {
     "name": "stdout",
     "output_type": "stream",
     "text": [
      "\\left[\\begin{matrix}\n",
      "b_{7} & b_{6} & b_{5} & b_{4} & b_{3} & b_{2} & b_{1}\n",
      "\\\\\n",
      "1 & - \\lambda & 0 & 0 & 0 & 0 & 0\n",
      "\\\\\n",
      "0 & 1 & - \\lambda & 0 & 0 & 0 & 0\n",
      "\\\\\n",
      "0 & 0 & 1 & - \\lambda & 0 & 0 & 0\n",
      "\\\\\n",
      "0 & 0 & 0 & 1 & - \\lambda & 0 & 0\n",
      "\\\\\n",
      "0 & 0 & 0 & 0 & 1 & - \\lambda & 0\n",
      "\\\\\n",
      "0 & 0 & 0 & 0 & 0 & 1 & - \\lambda\\end{matrix}\n",
      "\\right]\n"
     ]
    }
   ],
   "source": [
    "D = 7\n",
    "lam = sp.symbols(r\"\\lambda\")\n",
    "top_row = sp.symbols([f\"b_{i+1}\" for i in range(D)][::-1])\n",
    "\n",
    "middle_rows = [sp.eye(D).row(i) for i in range(D - 1)]\n",
    "null_eye = sp.eye(7)\n",
    "null_eye[0, 0] = 0\n",
    "\n",
    "B = sp.Matrix([top_row] + middle_rows) - lam * null_eye\n",
    "\n",
    "B_latex_str = sp.latex(B)\n",
    "B_latex_str_mod = B_latex_str.replace(r\"\\\\\", \"\\n\" + r\"\\\\\" + \"\\n\")\n",
    "B_latex_str_mod = B_latex_str_mod.replace(r\"{matrix}\", r\"{matrix}\" + \"\\n\")\n",
    "print(B_latex_str_mod)"
   ]
  },
  {
   "cell_type": "code",
   "execution_count": 10,
   "metadata": {},
   "outputs": [],
   "source": [
    "def get_minor(T: sp.Matrix, i, j):\n",
    "    minor_T = T.copy()\n",
    "    minor_T.row_del(i)\n",
    "    minor_T.col_del(j)\n",
    "    return minor_T"
   ]
  },
  {
   "cell_type": "code",
   "execution_count": 15,
   "metadata": {},
   "outputs": [
    {
     "data": {
      "text/latex": [
       "$\\displaystyle \\left[\\begin{matrix}b_{6} & b_{5} & b_{4} & b_{3} & b_{2} & b_{1}\\\\1 & - \\lambda & 0 & 0 & 0 & 0\\\\0 & 1 & - \\lambda & 0 & 0 & 0\\\\0 & 0 & 1 & - \\lambda & 0 & 0\\\\0 & 0 & 0 & 1 & - \\lambda & 0\\\\0 & 0 & 0 & 0 & 1 & - \\lambda\\end{matrix}\\right]$"
      ],
      "text/plain": [
       "Matrix([\n",
       "[b_6,      b_5,      b_4,      b_3,      b_2,      b_1],\n",
       "[  1, -\\lambda,        0,        0,        0,        0],\n",
       "[  0,        1, -\\lambda,        0,        0,        0],\n",
       "[  0,        0,        1, -\\lambda,        0,        0],\n",
       "[  0,        0,        0,        1, -\\lambda,        0],\n",
       "[  0,        0,        0,        0,        1, -\\lambda]])"
      ]
     },
     "metadata": {},
     "output_type": "display_data"
    },
    {
     "data": {
      "text/latex": [
       "$\\displaystyle \\left[\\begin{matrix}b_{5} & b_{4} & b_{3} & b_{2} & b_{1}\\\\1 & - \\lambda & 0 & 0 & 0\\\\0 & 1 & - \\lambda & 0 & 0\\\\0 & 0 & 1 & - \\lambda & 0\\\\0 & 0 & 0 & 1 & - \\lambda\\end{matrix}\\right]$"
      ],
      "text/plain": [
       "Matrix([\n",
       "[b_5,      b_4,      b_3,      b_2,      b_1],\n",
       "[  1, -\\lambda,        0,        0,        0],\n",
       "[  0,        1, -\\lambda,        0,        0],\n",
       "[  0,        0,        1, -\\lambda,        0],\n",
       "[  0,        0,        0,        1, -\\lambda]])"
      ]
     },
     "metadata": {},
     "output_type": "display_data"
    },
    {
     "data": {
      "text/latex": [
       "$\\displaystyle \\left[\\begin{matrix}b_{4} & b_{3} & b_{2} & b_{1}\\\\1 & - \\lambda & 0 & 0\\\\0 & 1 & - \\lambda & 0\\\\0 & 0 & 1 & - \\lambda\\end{matrix}\\right]$"
      ],
      "text/plain": [
       "Matrix([\n",
       "[b_4,      b_3,      b_2,      b_1],\n",
       "[  1, -\\lambda,        0,        0],\n",
       "[  0,        1, -\\lambda,        0],\n",
       "[  0,        0,        1, -\\lambda]])"
      ]
     },
     "metadata": {},
     "output_type": "display_data"
    },
    {
     "data": {
      "text/latex": [
       "$\\displaystyle \\left[\\begin{matrix}b_{3} & b_{2} & b_{1}\\\\1 & - \\lambda & 0\\\\0 & 1 & - \\lambda\\end{matrix}\\right]$"
      ],
      "text/plain": [
       "Matrix([\n",
       "[b_3,      b_2,      b_1],\n",
       "[  1, -\\lambda,        0],\n",
       "[  0,        1, -\\lambda]])"
      ]
     },
     "metadata": {},
     "output_type": "display_data"
    },
    {
     "data": {
      "text/latex": [
       "$\\displaystyle \\left[\\begin{matrix}b_{2} & b_{1}\\\\1 & - \\lambda\\end{matrix}\\right]$"
      ],
      "text/plain": [
       "Matrix([\n",
       "[b_2,      b_1],\n",
       "[  1, -\\lambda]])"
      ]
     },
     "metadata": {},
     "output_type": "display_data"
    },
    {
     "data": {
      "text/latex": [
       "$\\displaystyle \\left[\\begin{matrix}b_{1}\\end{matrix}\\right]$"
      ],
      "text/plain": [
       "Matrix([[b_1]])"
      ]
     },
     "metadata": {},
     "output_type": "display_data"
    }
   ],
   "source": [
    "minor_B = B.copy()\n",
    "for i in range(D-1):\n",
    "    minor_B = get_minor(minor_B,1,0)\n",
    "    display(minor_B)"
   ]
  },
  {
   "cell_type": "code",
   "execution_count": 17,
   "metadata": {},
   "outputs": [
    {
     "name": "stdout",
     "output_type": "stream",
     "text": [
      "\\left[\\begin{matrix}\n",
      "- \\lambda + a_{7} & a_{6} & a_{5} & a_{4} & a_{3} & a_{2} & a_{1}\n",
      "\\\\\n",
      "1 & - \\lambda & 0 & 0 & 0 & 0 & 0\n",
      "\\\\\n",
      "0 & 1 & - \\lambda & 0 & 0 & 0 & 0\n",
      "\\\\\n",
      "0 & 0 & 1 & - \\lambda & 0 & 0 & 0\n",
      "\\\\\n",
      "0 & 0 & 0 & 1 & - \\lambda & 0 & 0\n",
      "\\\\\n",
      "0 & 0 & 0 & 0 & 1 & - \\lambda & 0\n",
      "\\\\\n",
      "0 & 0 & 0 & 0 & 0 & 1 & - \\lambda\\end{matrix}\n",
      "\\right]\n"
     ]
    }
   ],
   "source": [
    "D = 7\n",
    "lam = sp.symbols(r\"\\lambda\")\n",
    "top_row = sp.symbols([f\"a_{i+1}\" for i in range(D)][::-1])\n",
    "\n",
    "middle_rows = [sp.eye(D).row(i) for i in range(D - 1)]\n",
    "A = sp.Matrix([top_row] + middle_rows) - lam * sp.eye(7)\n",
    "\n",
    "A_latex_str = sp.latex(A)\n",
    "A_latex_str_mod = A_latex_str.replace(r\"\\\\\", \"\\n\" + r\"\\\\\" + \"\\n\")\n",
    "A_latex_str_mod = A_latex_str_mod.replace(r\"{matrix}\", r\"{matrix}\" + \"\\n\")\n",
    "print(A_latex_str_mod)"
   ]
  },
  {
   "cell_type": "code",
   "execution_count": 18,
   "metadata": {},
   "outputs": [
    {
     "data": {
      "text/latex": [
       "$\\displaystyle \\left[\\begin{matrix}- \\lambda + a_{7} & a_{6} & a_{5} & a_{4} & a_{3} & a_{2} & a_{1}\\\\1 & - \\lambda & 0 & 0 & 0 & 0 & 0\\\\0 & 1 & - \\lambda & 0 & 0 & 0 & 0\\\\0 & 0 & 1 & - \\lambda & 0 & 0 & 0\\\\0 & 0 & 0 & 1 & - \\lambda & 0 & 0\\\\0 & 0 & 0 & 0 & 1 & - \\lambda & 0\\\\0 & 0 & 0 & 0 & 0 & 1 & - \\lambda\\end{matrix}\\right]$"
      ],
      "text/plain": [
       "Matrix([\n",
       "[-\\lambda + a_7,      a_6,      a_5,      a_4,      a_3,      a_2,      a_1],\n",
       "[             1, -\\lambda,        0,        0,        0,        0,        0],\n",
       "[             0,        1, -\\lambda,        0,        0,        0,        0],\n",
       "[             0,        0,        1, -\\lambda,        0,        0,        0],\n",
       "[             0,        0,        0,        1, -\\lambda,        0,        0],\n",
       "[             0,        0,        0,        0,        1, -\\lambda,        0],\n",
       "[             0,        0,        0,        0,        0,        1, -\\lambda]])"
      ]
     },
     "execution_count": 18,
     "metadata": {},
     "output_type": "execute_result"
    }
   ],
   "source": [
    "A"
   ]
  }
 ],
 "metadata": {
  "kernelspec": {
   "display_name": ".venv",
   "language": "python",
   "name": "python3"
  },
  "language_info": {
   "codemirror_mode": {
    "name": "ipython",
    "version": 3
   },
   "file_extension": ".py",
   "mimetype": "text/x-python",
   "name": "python",
   "nbconvert_exporter": "python",
   "pygments_lexer": "ipython3",
   "version": "3.12.5"
  }
 },
 "nbformat": 4,
 "nbformat_minor": 2
}
