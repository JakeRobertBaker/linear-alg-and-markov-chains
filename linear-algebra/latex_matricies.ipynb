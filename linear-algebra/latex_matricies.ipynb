{
 "cells": [
  {
   "cell_type": "code",
   "execution_count": 1,
   "metadata": {},
   "outputs": [],
   "source": [
    "import sympy as sp"
   ]
  },
  {
   "cell_type": "code",
   "execution_count": 2,
   "metadata": {},
   "outputs": [
    {
     "name": "stdout",
     "output_type": "stream",
     "text": [
      "\\left[\\begin{matrix}\n",
      "b_{7} & b_{6} & b_{5} & b_{4} & b_{3} & b_{2} & b_{1}\n",
      "\\\\\n",
      "1 & - \\lambda & 0 & 0 & 0 & 0 & 0\n",
      "\\\\\n",
      "0 & 1 & - \\lambda & 0 & 0 & 0 & 0\n",
      "\\\\\n",
      "0 & 0 & 1 & - \\lambda & 0 & 0 & 0\n",
      "\\\\\n",
      "0 & 0 & 0 & 1 & - \\lambda & 0 & 0\n",
      "\\\\\n",
      "0 & 0 & 0 & 0 & 1 & - \\lambda & 0\n",
      "\\\\\n",
      "0 & 0 & 0 & 0 & 0 & 1 & - \\lambda\\end{matrix}\n",
      "\\right]\n"
     ]
    }
   ],
   "source": [
    "D = 7\n",
    "lam = sp.symbols(r\"\\lambda\")\n",
    "top_row = sp.symbols([f\"b_{i+1}\" for i in range(D)][::-1])\n",
    "\n",
    "middle_rows = [sp.eye(D).row(i) for i in range(D - 1)]\n",
    "null_eye = sp.eye(7)\n",
    "null_eye[0, 0] = 0\n",
    "\n",
    "B = sp.Matrix([top_row] + middle_rows) - lam * null_eye\n",
    "\n",
    "B_latex_str = sp.latex(B)\n",
    "B_latex_str_mod = B_latex_str.replace(r\"\\\\\", \"\\n\" + r\"\\\\\" + \"\\n\")\n",
    "B_latex_str_mod = B_latex_str_mod.replace(r\"{matrix}\", r\"{matrix}\" + \"\\n\")\n",
    "print(B_latex_str_mod)"
   ]
  },
  {
   "cell_type": "code",
   "execution_count": 3,
   "metadata": {},
   "outputs": [],
   "source": [
    "def get_minor(T: sp.Matrix, i, j):\n",
    "    minor_T = T.copy()\n",
    "    minor_T.row_del(i)\n",
    "    minor_T.col_del(j)\n",
    "    return minor_T"
   ]
  },
  {
   "cell_type": "code",
   "execution_count": 4,
   "metadata": {},
   "outputs": [
    {
     "data": {
      "text/latex": [
       "$\\displaystyle \\left[\\begin{matrix}b_{6} & b_{5} & b_{4} & b_{3} & b_{2} & b_{1}\\\\1 & - \\lambda & 0 & 0 & 0 & 0\\\\0 & 1 & - \\lambda & 0 & 0 & 0\\\\0 & 0 & 1 & - \\lambda & 0 & 0\\\\0 & 0 & 0 & 1 & - \\lambda & 0\\\\0 & 0 & 0 & 0 & 1 & - \\lambda\\end{matrix}\\right]$"
      ],
      "text/plain": [
       "Matrix([\n",
       "[b_6,      b_5,      b_4,      b_3,      b_2,      b_1],\n",
       "[  1, -\\lambda,        0,        0,        0,        0],\n",
       "[  0,        1, -\\lambda,        0,        0,        0],\n",
       "[  0,        0,        1, -\\lambda,        0,        0],\n",
       "[  0,        0,        0,        1, -\\lambda,        0],\n",
       "[  0,        0,        0,        0,        1, -\\lambda]])"
      ]
     },
     "metadata": {},
     "output_type": "display_data"
    },
    {
     "data": {
      "text/latex": [
       "$\\displaystyle \\left[\\begin{matrix}b_{5} & b_{4} & b_{3} & b_{2} & b_{1}\\\\1 & - \\lambda & 0 & 0 & 0\\\\0 & 1 & - \\lambda & 0 & 0\\\\0 & 0 & 1 & - \\lambda & 0\\\\0 & 0 & 0 & 1 & - \\lambda\\end{matrix}\\right]$"
      ],
      "text/plain": [
       "Matrix([\n",
       "[b_5,      b_4,      b_3,      b_2,      b_1],\n",
       "[  1, -\\lambda,        0,        0,        0],\n",
       "[  0,        1, -\\lambda,        0,        0],\n",
       "[  0,        0,        1, -\\lambda,        0],\n",
       "[  0,        0,        0,        1, -\\lambda]])"
      ]
     },
     "metadata": {},
     "output_type": "display_data"
    },
    {
     "data": {
      "text/latex": [
       "$\\displaystyle \\left[\\begin{matrix}b_{4} & b_{3} & b_{2} & b_{1}\\\\1 & - \\lambda & 0 & 0\\\\0 & 1 & - \\lambda & 0\\\\0 & 0 & 1 & - \\lambda\\end{matrix}\\right]$"
      ],
      "text/plain": [
       "Matrix([\n",
       "[b_4,      b_3,      b_2,      b_1],\n",
       "[  1, -\\lambda,        0,        0],\n",
       "[  0,        1, -\\lambda,        0],\n",
       "[  0,        0,        1, -\\lambda]])"
      ]
     },
     "metadata": {},
     "output_type": "display_data"
    },
    {
     "data": {
      "text/latex": [
       "$\\displaystyle \\left[\\begin{matrix}b_{3} & b_{2} & b_{1}\\\\1 & - \\lambda & 0\\\\0 & 1 & - \\lambda\\end{matrix}\\right]$"
      ],
      "text/plain": [
       "Matrix([\n",
       "[b_3,      b_2,      b_1],\n",
       "[  1, -\\lambda,        0],\n",
       "[  0,        1, -\\lambda]])"
      ]
     },
     "metadata": {},
     "output_type": "display_data"
    },
    {
     "data": {
      "text/latex": [
       "$\\displaystyle \\left[\\begin{matrix}b_{2} & b_{1}\\\\1 & - \\lambda\\end{matrix}\\right]$"
      ],
      "text/plain": [
       "Matrix([\n",
       "[b_2,      b_1],\n",
       "[  1, -\\lambda]])"
      ]
     },
     "metadata": {},
     "output_type": "display_data"
    },
    {
     "data": {
      "text/latex": [
       "$\\displaystyle \\left[\\begin{matrix}b_{1}\\end{matrix}\\right]$"
      ],
      "text/plain": [
       "Matrix([[b_1]])"
      ]
     },
     "metadata": {},
     "output_type": "display_data"
    }
   ],
   "source": [
    "minor_B = B.copy()\n",
    "for i in range(D-1):\n",
    "    minor_B = get_minor(minor_B,1,0)\n",
    "    display(minor_B)"
   ]
  },
  {
   "cell_type": "code",
   "execution_count": 5,
   "metadata": {},
   "outputs": [
    {
     "name": "stdout",
     "output_type": "stream",
     "text": [
      "\\left[\\begin{matrix}\n",
      "- \\lambda + a_{7} & a_{6} & a_{5} & a_{4} & a_{3} & a_{2} & a_{1}\n",
      "\\\\\n",
      "1 & - \\lambda & 0 & 0 & 0 & 0 & 0\n",
      "\\\\\n",
      "0 & 1 & - \\lambda & 0 & 0 & 0 & 0\n",
      "\\\\\n",
      "0 & 0 & 1 & - \\lambda & 0 & 0 & 0\n",
      "\\\\\n",
      "0 & 0 & 0 & 1 & - \\lambda & 0 & 0\n",
      "\\\\\n",
      "0 & 0 & 0 & 0 & 1 & - \\lambda & 0\n",
      "\\\\\n",
      "0 & 0 & 0 & 0 & 0 & 1 & - \\lambda\\end{matrix}\n",
      "\\right]\n"
     ]
    }
   ],
   "source": [
    "D = 7\n",
    "lam = sp.symbols(r\"\\lambda\")\n",
    "top_row = sp.symbols([f\"a_{i+1}\" for i in range(D)][::-1])\n",
    "\n",
    "middle_rows = [sp.eye(D).row(i) for i in range(D - 1)]\n",
    "A = sp.Matrix([top_row] + middle_rows) - lam * sp.eye(7)\n",
    "\n",
    "A_latex_str = sp.latex(A)\n",
    "A_latex_str_mod = A_latex_str.replace(r\"\\\\\", \"\\n\" + r\"\\\\\" + \"\\n\")\n",
    "A_latex_str_mod = A_latex_str_mod.replace(r\"{matrix}\", r\"{matrix}\" + \"\\n\")\n",
    "print(A_latex_str_mod)"
   ]
  },
  {
   "cell_type": "code",
   "execution_count": 6,
   "metadata": {},
   "outputs": [
    {
     "data": {
      "text/latex": [
       "$\\displaystyle \\left[\\begin{matrix}- \\lambda + a_{7} & a_{6} & a_{5} & a_{4} & a_{3} & a_{2} & a_{1}\\\\1 & - \\lambda & 0 & 0 & 0 & 0 & 0\\\\0 & 1 & - \\lambda & 0 & 0 & 0 & 0\\\\0 & 0 & 1 & - \\lambda & 0 & 0 & 0\\\\0 & 0 & 0 & 1 & - \\lambda & 0 & 0\\\\0 & 0 & 0 & 0 & 1 & - \\lambda & 0\\\\0 & 0 & 0 & 0 & 0 & 1 & - \\lambda\\end{matrix}\\right]$"
      ],
      "text/plain": [
       "Matrix([\n",
       "[-\\lambda + a_7,      a_6,      a_5,      a_4,      a_3,      a_2,      a_1],\n",
       "[             1, -\\lambda,        0,        0,        0,        0,        0],\n",
       "[             0,        1, -\\lambda,        0,        0,        0,        0],\n",
       "[             0,        0,        1, -\\lambda,        0,        0,        0],\n",
       "[             0,        0,        0,        1, -\\lambda,        0,        0],\n",
       "[             0,        0,        0,        0,        1, -\\lambda,        0],\n",
       "[             0,        0,        0,        0,        0,        1, -\\lambda]])"
      ]
     },
     "execution_count": 6,
     "metadata": {},
     "output_type": "execute_result"
    }
   ],
   "source": [
    "A"
   ]
  },
  {
   "cell_type": "code",
   "execution_count": 49,
   "metadata": {},
   "outputs": [],
   "source": [
    "def print_nicer_latex(T):\n",
    "    T_latex_str = sp.latex(T)\n",
    "    T_latex_str_mod = T_latex_str.replace(r\"\\\\\", \"\\n\" + r\"\\\\\" + \"\\n\")\n",
    "    T_latex_str_mod = T_latex_str_mod.replace(r\"{matrix}\", r\"{matrix}\" + \"\\n\")\n",
    "    print(T_latex_str_mod)"
   ]
  },
  {
   "cell_type": "code",
   "execution_count": 53,
   "metadata": {},
   "outputs": [
    {
     "data": {
      "text/latex": [
       "$\\displaystyle \\left[\\begin{matrix}0 & 1 & 0 & 0 & 0 & 0 & 0\\\\0 & 0 & 1 & 0 & 0 & 0 & 0\\\\0 & 0 & 0 & 1 & 0 & 0 & 0\\\\0 & 0 & 0 & 0 & 1 & 0 & 0\\\\0 & 0 & 0 & 0 & 0 & 1 & 0\\\\0 & 0 & 0 & 0 & 0 & 0 & 1\\\\0 & 0 & 0 & 0 & 0 & 0 & 0\\end{matrix}\\right]$"
      ],
      "text/plain": [
       "Matrix([\n",
       "[0, 1, 0, 0, 0, 0, 0],\n",
       "[0, 0, 1, 0, 0, 0, 0],\n",
       "[0, 0, 0, 1, 0, 0, 0],\n",
       "[0, 0, 0, 0, 1, 0, 0],\n",
       "[0, 0, 0, 0, 0, 1, 0],\n",
       "[0, 0, 0, 0, 0, 0, 1],\n",
       "[0, 0, 0, 0, 0, 0, 0]])"
      ]
     },
     "execution_count": 53,
     "metadata": {},
     "output_type": "execute_result"
    }
   ],
   "source": [
    "N = sp.Matrix([[sp.zeros(D)[:, 0]] + sp.eye(D)[:, :-1].columnspace()])\n",
    "J = N + + lam * sp.eye(D)\n",
    "N"
   ]
  },
  {
   "cell_type": "code",
   "execution_count": 54,
   "metadata": {},
   "outputs": [
    {
     "name": "stdout",
     "output_type": "stream",
     "text": [
      "\\left[\\begin{matrix}\n",
      "\\lambda & 1 & 0 & 0 & 0 & 0 & 0\n",
      "\\\\\n",
      "0 & \\lambda & 1 & 0 & 0 & 0 & 0\n",
      "\\\\\n",
      "0 & 0 & \\lambda & 1 & 0 & 0 & 0\n",
      "\\\\\n",
      "0 & 0 & 0 & \\lambda & 1 & 0 & 0\n",
      "\\\\\n",
      "0 & 0 & 0 & 0 & \\lambda & 1 & 0\n",
      "\\\\\n",
      "0 & 0 & 0 & 0 & 0 & \\lambda & 1\n",
      "\\\\\n",
      "0 & 0 & 0 & 0 & 0 & 0 & \\lambda\\end{matrix}\n",
      "\\right]\n"
     ]
    }
   ],
   "source": [
    "print_nicer_latex(J)"
   ]
  },
  {
   "cell_type": "code",
   "execution_count": 55,
   "metadata": {},
   "outputs": [
    {
     "name": "stdout",
     "output_type": "stream",
     "text": [
      "\\left[\\begin{matrix}\n",
      "0 & 1 & 0 & 0 & 0 & 0 & 0\n",
      "\\\\\n",
      "0 & 0 & 1 & 0 & 0 & 0 & 0\n",
      "\\\\\n",
      "0 & 0 & 0 & 1 & 0 & 0 & 0\n",
      "\\\\\n",
      "0 & 0 & 0 & 0 & 1 & 0 & 0\n",
      "\\\\\n",
      "0 & 0 & 0 & 0 & 0 & 1 & 0\n",
      "\\\\\n",
      "0 & 0 & 0 & 0 & 0 & 0 & 1\n",
      "\\\\\n",
      "0 & 0 & 0 & 0 & 0 & 0 & 0\\end{matrix}\n",
      "\\right]\n"
     ]
    }
   ],
   "source": [
    "print_nicer_latex(N)"
   ]
  },
  {
   "cell_type": "code",
   "execution_count": 79,
   "metadata": {},
   "outputs": [],
   "source": [
    "m, k, n, i = sp.symbols([\"m\", \"k\", \"n\", \"i\"])\n",
    "\n",
    "\n",
    "def return_J_m_i_k(J_power, basis_idx, row_idx, dim_V):\n",
    "    elemment = sp.binomial(J_power, basis_idx - row_idx) * lam ** (dim_V + row_idx - basis_idx)\n",
    "    return elemment"
   ]
  },
  {
   "cell_type": "code",
   "execution_count": 163,
   "metadata": {},
   "outputs": [
    {
     "data": {
      "text/latex": [
       "$\\displaystyle \\lambda^{i - k + n} {\\binom{m}{- i + k}}$"
      ],
      "text/plain": [
       "\\lambda**(i - k + n)*binomial(m, -i + k)"
      ]
     },
     "execution_count": 163,
     "metadata": {},
     "output_type": "execute_result"
    }
   ],
   "source": [
    "return_J_m_i_k(m,k,i,n)"
   ]
  },
  {
   "cell_type": "code",
   "execution_count": null,
   "metadata": {},
   "outputs": [
    {
     "data": {
      "text/latex": [
       "$\\displaystyle \\ldots$"
      ],
      "text/plain": [
       "\\ldots"
      ]
     },
     "execution_count": 164,
     "metadata": {},
     "output_type": "execute_result"
    }
   ],
   "source": []
  },
  {
   "cell_type": "code",
   "execution_count": 173,
   "metadata": {},
   "outputs": [
    {
     "ename": "SyntaxError",
     "evalue": "invalid syntax (3151494992.py, line 5)",
     "output_type": "error",
     "traceback": [
      "\u001b[1;36m  Cell \u001b[1;32mIn[173], line 5\u001b[1;36m\u001b[0m\n\u001b[1;33m    elif:\u001b[0m\n\u001b[1;37m        ^\u001b[0m\n\u001b[1;31mSyntaxError\u001b[0m\u001b[1;31m:\u001b[0m invalid syntax\n"
     ]
    }
   ],
   "source": [
    "def return_J_m_i_k(J_power, basis_idx, row_idx, dim_V):\n",
    "    elemment = sp.binomial(J_power, basis_idx - row_idx) * lam ** (dim_V + row_idx - basis_idx)\n",
    "    if row_idx == 'dots':\n",
    "        return sp.symbols(r'\\ldots')\n",
    "    elif:\n",
    "        x=2\n",
    "    return elemment"
   ]
  },
  {
   "cell_type": "code",
   "execution_count": 156,
   "metadata": {},
   "outputs": [],
   "source": [
    "rows = [1,2,3,'dots',k-1,k,k+1,'dots',n]\n",
    "columns = [1,2,3,'dots',k-1,k,k+1,'vdots',n]"
   ]
  },
  {
   "cell_type": "code",
   "execution_count": 162,
   "metadata": {},
   "outputs": [
    {
     "ename": "TypeError",
     "evalue": "unsupported operand type(s) for -: 'int' and 'str'",
     "output_type": "error",
     "traceback": [
      "\u001b[1;31m---------------------------------------------------------------------------\u001b[0m",
      "\u001b[1;31mTypeError\u001b[0m                                 Traceback (most recent call last)",
      "Cell \u001b[1;32mIn[162], line 3\u001b[0m\n\u001b[0;32m      1\u001b[0m sp\u001b[38;5;241m.\u001b[39mMatrix(\n\u001b[0;32m      2\u001b[0m     [\n\u001b[1;32m----> 3\u001b[0m         [\u001b[43mreturn_J_m_i_k\u001b[49m\u001b[43m(\u001b[49m\u001b[43mJ_power\u001b[49m\u001b[38;5;241;43m=\u001b[39;49m\u001b[43mm\u001b[49m\u001b[43m,\u001b[49m\u001b[43m \u001b[49m\u001b[43mbasis_idx\u001b[49m\u001b[38;5;241;43m=\u001b[39;49m\u001b[43mcol\u001b[49m\u001b[43m,\u001b[49m\u001b[43m \u001b[49m\u001b[43mrow_idx\u001b[49m\u001b[38;5;241;43m=\u001b[39;49m\u001b[43mrow\u001b[49m\u001b[43m,\u001b[49m\u001b[43m \u001b[49m\u001b[43mdim_V\u001b[49m\u001b[38;5;241;43m=\u001b[39;49m\u001b[43mn\u001b[49m\u001b[43m)\u001b[49m \u001b[38;5;28;01mfor\u001b[39;00m row \u001b[38;5;129;01min\u001b[39;00m rows]\n\u001b[0;32m      4\u001b[0m         \u001b[38;5;28;01mfor\u001b[39;00m col \u001b[38;5;129;01min\u001b[39;00m columns\n\u001b[0;32m      5\u001b[0m     ]\n\u001b[0;32m      6\u001b[0m )\n",
      "Cell \u001b[1;32mIn[79], line 5\u001b[0m, in \u001b[0;36mreturn_J_m_i_k\u001b[1;34m(J_power, basis_idx, row_idx, dim_V)\u001b[0m\n\u001b[0;32m      4\u001b[0m \u001b[38;5;28;01mdef\u001b[39;00m \u001b[38;5;21mreturn_J_m_i_k\u001b[39m(J_power, basis_idx, row_idx, dim_V):\n\u001b[1;32m----> 5\u001b[0m     elemment \u001b[38;5;241m=\u001b[39m sp\u001b[38;5;241m.\u001b[39mbinomial(J_power, \u001b[43mbasis_idx\u001b[49m\u001b[43m \u001b[49m\u001b[38;5;241;43m-\u001b[39;49m\u001b[43m \u001b[49m\u001b[43mrow_idx\u001b[49m) \u001b[38;5;241m*\u001b[39m lam \u001b[38;5;241m*\u001b[39m\u001b[38;5;241m*\u001b[39m (dim_V \u001b[38;5;241m+\u001b[39m row_idx \u001b[38;5;241m-\u001b[39m basis_idx)\n\u001b[0;32m      6\u001b[0m     \u001b[38;5;28;01mreturn\u001b[39;00m elemment\n",
      "\u001b[1;31mTypeError\u001b[0m: unsupported operand type(s) for -: 'int' and 'str'"
     ]
    }
   ],
   "source": [
    "sp.Matrix(\n",
    "    [\n",
    "        [return_J_m_i_k(J_power=m, basis_idx=col, row_idx=row, dim_V=n) for row in rows]\n",
    "        for col in columns\n",
    "    ]\n",
    ")"
   ]
  },
  {
   "cell_type": "code",
   "execution_count": 146,
   "metadata": {},
   "outputs": [
    {
     "data": {
      "text/latex": [
       "$\\displaystyle \\left[\\begin{matrix}\\lambda^{- k + n + 1} {\\binom{m}{k - 1}} & \\lambda^{- k + n} {\\binom{m}{k}}\\\\\\lambda^{- k + n + 2} {\\binom{m}{k - 2}} & \\lambda^{- k + n + 1} {\\binom{m}{k - 1}}\\\\\\lambda^{- k + n + 3} {\\binom{m}{k - 3}} & \\lambda^{- k + n + 2} {\\binom{m}{k - 2}}\\\\\\vdots & \\vdots\\\\\\lambda^{i - k + n} {\\binom{m}{- i + k}} & \\lambda^{i - k + n - 1} {\\binom{m}{- i + k + 1}}\\\\\\vdots & \\vdots\\\\\\lambda^{n} & \\lambda^{n}\\\\0 & 0\\\\0 & 0\\end{matrix}\\right]$"
      ],
      "text/plain": [
       "Matrix([\n",
       "[\\lambda**(-k + n + 1)*binomial(m, k - 1),                 \\lambda**(-k + n)*binomial(m, k)],\n",
       "[\\lambda**(-k + n + 2)*binomial(m, k - 2),         \\lambda**(-k + n + 1)*binomial(m, k - 1)],\n",
       "[\\lambda**(-k + n + 3)*binomial(m, k - 3),         \\lambda**(-k + n + 2)*binomial(m, k - 2)],\n",
       "[                                  \\vdots,                                           \\vdots],\n",
       "[\\lambda**(i - k + n)*binomial(m, -i + k), \\lambda**(i - k + n - 1)*binomial(m, -i + k + 1)],\n",
       "[                                  \\vdots,                                           \\vdots],\n",
       "[                              \\lambda**n,                                       \\lambda**n],\n",
       "[                                       0,                                                0],\n",
       "[                                       0,                                                0]])"
      ]
     },
     "execution_count": 146,
     "metadata": {},
     "output_type": "execute_result"
    }
   ],
   "source": [
    "cols = [return_J_m_col_k(J_power=m, basis_idx=basis_idx, dim_V=n) for basis_idx in [k, k + 1]]\n",
    "sp.Matrix(cols).T"
   ]
  },
  {
   "cell_type": "code",
   "execution_count": 126,
   "metadata": {},
   "outputs": [
    {
     "data": {
      "text/latex": [
       "$\\displaystyle \\lambda^{- k + n + 1} {\\binom{m}{k - 1}}$"
      ],
      "text/plain": [
       "\\lambda**(-k + n + 1)*binomial(m, k - 1)"
      ]
     },
     "metadata": {},
     "output_type": "display_data"
    },
    {
     "data": {
      "text/latex": [
       "$\\displaystyle \\lambda^{- k + n + 2} {\\binom{m}{k - 2}}$"
      ],
      "text/plain": [
       "\\lambda**(-k + n + 2)*binomial(m, k - 2)"
      ]
     },
     "metadata": {},
     "output_type": "display_data"
    },
    {
     "data": {
      "text/latex": [
       "$\\displaystyle \\lambda^{- k + n + 3} {\\binom{m}{k - 3}}$"
      ],
      "text/plain": [
       "\\lambda**(-k + n + 3)*binomial(m, k - 3)"
      ]
     },
     "metadata": {},
     "output_type": "display_data"
    },
    {
     "data": {
      "text/latex": [
       "$\\displaystyle \\vdots$"
      ],
      "text/plain": [
       "\\vdots"
      ]
     },
     "metadata": {},
     "output_type": "display_data"
    },
    {
     "data": {
      "text/latex": [
       "$\\displaystyle \\lambda^{i - k + n} {\\binom{m}{- i + k}}$"
      ],
      "text/plain": [
       "\\lambda**(i - k + n)*binomial(m, -i + k)"
      ]
     },
     "metadata": {},
     "output_type": "display_data"
    },
    {
     "data": {
      "text/latex": [
       "$\\displaystyle \\vdots$"
      ],
      "text/plain": [
       "\\vdots"
      ]
     },
     "metadata": {},
     "output_type": "display_data"
    },
    {
     "data": {
      "text/latex": [
       "$\\displaystyle \\lambda^{n}$"
      ],
      "text/plain": [
       "\\lambda**n"
      ]
     },
     "metadata": {},
     "output_type": "display_data"
    },
    {
     "data": {
      "text/latex": [
       "$\\displaystyle 0$"
      ],
      "text/plain": [
       "0"
      ]
     },
     "metadata": {},
     "output_type": "display_data"
    },
    {
     "data": {
      "text/latex": [
       "$\\displaystyle 0$"
      ],
      "text/plain": [
       "0"
      ]
     },
     "metadata": {},
     "output_type": "display_data"
    }
   ],
   "source": [
    "for row_idx in [1, 2, 3, \"dots\", i, \"dots\", k, \"zero\", \"zero\"]:\n",
    "    if row_idx == \"dots\":\n",
    "        display(sp.symbols(r\"\\vdots\"))\n",
    "    elif row_idx == \"zero\":\n",
    "        display(sp.symbols(\"0\"))\n",
    "    else:\n",
    "        display(return_J_m_i_k(J_power=m, basis_idx=k, row_idx=row_idx, dim_V=n))"
   ]
  }
 ],
 "metadata": {
  "kernelspec": {
   "display_name": ".venv",
   "language": "python",
   "name": "python3"
  },
  "language_info": {
   "codemirror_mode": {
    "name": "ipython",
    "version": 3
   },
   "file_extension": ".py",
   "mimetype": "text/x-python",
   "name": "python",
   "nbconvert_exporter": "python",
   "pygments_lexer": "ipython3",
   "version": "3.12.5"
  }
 },
 "nbformat": 4,
 "nbformat_minor": 2
}
