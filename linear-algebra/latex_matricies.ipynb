{
 "cells": [
  {
   "cell_type": "code",
   "execution_count": 1,
   "metadata": {},
   "outputs": [],
   "source": [
    "import sympy as sp"
   ]
  },
  {
   "cell_type": "code",
   "execution_count": 2,
   "metadata": {},
   "outputs": [
    {
     "name": "stdout",
     "output_type": "stream",
     "text": [
      "\\left[\\begin{matrix}\n",
      "b_{7} & b_{6} & b_{5} & b_{4} & b_{3} & b_{2} & b_{1}\n",
      "\\\\\n",
      "1 & - \\lambda & 0 & 0 & 0 & 0 & 0\n",
      "\\\\\n",
      "0 & 1 & - \\lambda & 0 & 0 & 0 & 0\n",
      "\\\\\n",
      "0 & 0 & 1 & - \\lambda & 0 & 0 & 0\n",
      "\\\\\n",
      "0 & 0 & 0 & 1 & - \\lambda & 0 & 0\n",
      "\\\\\n",
      "0 & 0 & 0 & 0 & 1 & - \\lambda & 0\n",
      "\\\\\n",
      "0 & 0 & 0 & 0 & 0 & 1 & - \\lambda\\end{matrix}\n",
      "\\right]\n"
     ]
    }
   ],
   "source": [
    "D = 7\n",
    "lam = sp.symbols(r\"\\lambda\")\n",
    "top_row = sp.symbols([f\"b_{i+1}\" for i in range(D)][::-1])\n",
    "\n",
    "middle_rows = [sp.eye(D).row(i) for i in range(D - 1)]\n",
    "null_eye = sp.eye(7)\n",
    "null_eye[0, 0] = 0\n",
    "\n",
    "B = sp.Matrix([top_row] + middle_rows) - lam * null_eye\n",
    "\n",
    "B_latex_str = sp.latex(B)\n",
    "B_latex_str_mod = B_latex_str.replace(r\"\\\\\", \"\\n\" + r\"\\\\\" + \"\\n\")\n",
    "B_latex_str_mod = B_latex_str_mod.replace(r\"{matrix}\", r\"{matrix}\" + \"\\n\")\n",
    "print(B_latex_str_mod)"
   ]
  },
  {
   "cell_type": "code",
   "execution_count": 3,
   "metadata": {},
   "outputs": [],
   "source": [
    "def get_minor(T: sp.Matrix, i, j):\n",
    "    minor_T = T.copy()\n",
    "    minor_T.row_del(i)\n",
    "    minor_T.col_del(j)\n",
    "    return minor_T"
   ]
  },
  {
   "cell_type": "code",
   "execution_count": null,
   "metadata": {},
   "outputs": [
    {
     "data": {
      "text/latex": [
       "$\\displaystyle \\left[\\begin{matrix}b_{6} & b_{5} & b_{4} & b_{3} & b_{2} & b_{1}\\\\1 & - \\lambda & 0 & 0 & 0 & 0\\\\0 & 1 & - \\lambda & 0 & 0 & 0\\\\0 & 0 & 1 & - \\lambda & 0 & 0\\\\0 & 0 & 0 & 1 & - \\lambda & 0\\\\0 & 0 & 0 & 0 & 1 & - \\lambda\\end{matrix}\\right]$"
      ],
      "text/plain": [
       "Matrix([\n",
       "[b_6,      b_5,      b_4,      b_3,      b_2,      b_1],\n",
       "[  1, -\\lambda,        0,        0,        0,        0],\n",
       "[  0,        1, -\\lambda,        0,        0,        0],\n",
       "[  0,        0,        1, -\\lambda,        0,        0],\n",
       "[  0,        0,        0,        1, -\\lambda,        0],\n",
       "[  0,        0,        0,        0,        1, -\\lambda]])"
      ]
     },
     "metadata": {},
     "output_type": "display_data"
    },
    {
     "data": {
      "text/latex": [
       "$\\displaystyle \\left[\\begin{matrix}b_{5} & b_{4} & b_{3} & b_{2} & b_{1}\\\\1 & - \\lambda & 0 & 0 & 0\\\\0 & 1 & - \\lambda & 0 & 0\\\\0 & 0 & 1 & - \\lambda & 0\\\\0 & 0 & 0 & 1 & - \\lambda\\end{matrix}\\right]$"
      ],
      "text/plain": [
       "Matrix([\n",
       "[b_5,      b_4,      b_3,      b_2,      b_1],\n",
       "[  1, -\\lambda,        0,        0,        0],\n",
       "[  0,        1, -\\lambda,        0,        0],\n",
       "[  0,        0,        1, -\\lambda,        0],\n",
       "[  0,        0,        0,        1, -\\lambda]])"
      ]
     },
     "metadata": {},
     "output_type": "display_data"
    },
    {
     "data": {
      "text/latex": [
       "$\\displaystyle \\left[\\begin{matrix}b_{4} & b_{3} & b_{2} & b_{1}\\\\1 & - \\lambda & 0 & 0\\\\0 & 1 & - \\lambda & 0\\\\0 & 0 & 1 & - \\lambda\\end{matrix}\\right]$"
      ],
      "text/plain": [
       "Matrix([\n",
       "[b_4,      b_3,      b_2,      b_1],\n",
       "[  1, -\\lambda,        0,        0],\n",
       "[  0,        1, -\\lambda,        0],\n",
       "[  0,        0,        1, -\\lambda]])"
      ]
     },
     "metadata": {},
     "output_type": "display_data"
    },
    {
     "data": {
      "text/latex": [
       "$\\displaystyle \\left[\\begin{matrix}b_{3} & b_{2} & b_{1}\\\\1 & - \\lambda & 0\\\\0 & 1 & - \\lambda\\end{matrix}\\right]$"
      ],
      "text/plain": [
       "Matrix([\n",
       "[b_3,      b_2,      b_1],\n",
       "[  1, -\\lambda,        0],\n",
       "[  0,        1, -\\lambda]])"
      ]
     },
     "metadata": {},
     "output_type": "display_data"
    },
    {
     "data": {
      "text/latex": [
       "$\\displaystyle \\left[\\begin{matrix}b_{2} & b_{1}\\\\1 & - \\lambda\\end{matrix}\\right]$"
      ],
      "text/plain": [
       "Matrix([\n",
       "[b_2,      b_1],\n",
       "[  1, -\\lambda]])"
      ]
     },
     "metadata": {},
     "output_type": "display_data"
    },
    {
     "data": {
      "text/latex": [
       "$\\displaystyle \\left[\\begin{matrix}b_{1}\\end{matrix}\\right]$"
      ],
      "text/plain": [
       "Matrix([[b_1]])"
      ]
     },
     "metadata": {},
     "output_type": "display_data"
    }
   ],
   "source": [
    "minor_B = B.copy()\n",
    "for i in range(D - 1):\n",
    "    minor_B = get_minor(minor_B, 1, 0)\n",
    "    display(minor_B)"
   ]
  },
  {
   "cell_type": "code",
   "execution_count": 5,
   "metadata": {},
   "outputs": [
    {
     "name": "stdout",
     "output_type": "stream",
     "text": [
      "\\left[\\begin{matrix}\n",
      "- \\lambda + a_{7} & a_{6} & a_{5} & a_{4} & a_{3} & a_{2} & a_{1}\n",
      "\\\\\n",
      "1 & - \\lambda & 0 & 0 & 0 & 0 & 0\n",
      "\\\\\n",
      "0 & 1 & - \\lambda & 0 & 0 & 0 & 0\n",
      "\\\\\n",
      "0 & 0 & 1 & - \\lambda & 0 & 0 & 0\n",
      "\\\\\n",
      "0 & 0 & 0 & 1 & - \\lambda & 0 & 0\n",
      "\\\\\n",
      "0 & 0 & 0 & 0 & 1 & - \\lambda & 0\n",
      "\\\\\n",
      "0 & 0 & 0 & 0 & 0 & 1 & - \\lambda\\end{matrix}\n",
      "\\right]\n"
     ]
    }
   ],
   "source": [
    "D = 7\n",
    "lam = sp.symbols(r\"\\lambda\")\n",
    "top_row = sp.symbols([f\"a_{i+1}\" for i in range(D)][::-1])\n",
    "\n",
    "middle_rows = [sp.eye(D).row(i) for i in range(D - 1)]\n",
    "A = sp.Matrix([top_row] + middle_rows) - lam * sp.eye(7)\n",
    "\n",
    "A_latex_str = sp.latex(A)\n",
    "A_latex_str_mod = A_latex_str.replace(r\"\\\\\", \"\\n\" + r\"\\\\\" + \"\\n\")\n",
    "A_latex_str_mod = A_latex_str_mod.replace(r\"{matrix}\", r\"{matrix}\" + \"\\n\")\n",
    "print(A_latex_str_mod)"
   ]
  },
  {
   "cell_type": "code",
   "execution_count": 6,
   "metadata": {},
   "outputs": [
    {
     "data": {
      "text/latex": [
       "$\\displaystyle \\left[\\begin{matrix}- \\lambda + a_{7} & a_{6} & a_{5} & a_{4} & a_{3} & a_{2} & a_{1}\\\\1 & - \\lambda & 0 & 0 & 0 & 0 & 0\\\\0 & 1 & - \\lambda & 0 & 0 & 0 & 0\\\\0 & 0 & 1 & - \\lambda & 0 & 0 & 0\\\\0 & 0 & 0 & 1 & - \\lambda & 0 & 0\\\\0 & 0 & 0 & 0 & 1 & - \\lambda & 0\\\\0 & 0 & 0 & 0 & 0 & 1 & - \\lambda\\end{matrix}\\right]$"
      ],
      "text/plain": [
       "Matrix([\n",
       "[-\\lambda + a_7,      a_6,      a_5,      a_4,      a_3,      a_2,      a_1],\n",
       "[             1, -\\lambda,        0,        0,        0,        0,        0],\n",
       "[             0,        1, -\\lambda,        0,        0,        0,        0],\n",
       "[             0,        0,        1, -\\lambda,        0,        0,        0],\n",
       "[             0,        0,        0,        1, -\\lambda,        0,        0],\n",
       "[             0,        0,        0,        0,        1, -\\lambda,        0],\n",
       "[             0,        0,        0,        0,        0,        1, -\\lambda]])"
      ]
     },
     "execution_count": 6,
     "metadata": {},
     "output_type": "execute_result"
    }
   ],
   "source": [
    "A"
   ]
  },
  {
   "cell_type": "code",
   "execution_count": 7,
   "metadata": {},
   "outputs": [],
   "source": [
    "def print_nicer_latex(T):\n",
    "    T_latex_str = sp.latex(T)\n",
    "    T_latex_str_mod = T_latex_str.replace(r\"\\\\\", \"\\n\" + r\"\\\\\" + \"\\n\")\n",
    "    T_latex_str_mod = T_latex_str_mod.replace(r\"{matrix}\", r\"{matrix}\" + \"\\n\")\n",
    "    print(T_latex_str_mod)"
   ]
  },
  {
   "cell_type": "code",
   "execution_count": null,
   "metadata": {},
   "outputs": [
    {
     "data": {
      "text/latex": [
       "$\\displaystyle \\left[\\begin{matrix}0 & 1 & 0 & 0 & 0 & 0 & 0\\\\0 & 0 & 1 & 0 & 0 & 0 & 0\\\\0 & 0 & 0 & 1 & 0 & 0 & 0\\\\0 & 0 & 0 & 0 & 1 & 0 & 0\\\\0 & 0 & 0 & 0 & 0 & 1 & 0\\\\0 & 0 & 0 & 0 & 0 & 0 & 1\\\\0 & 0 & 0 & 0 & 0 & 0 & 0\\end{matrix}\\right]$"
      ],
      "text/plain": [
       "Matrix([\n",
       "[0, 1, 0, 0, 0, 0, 0],\n",
       "[0, 0, 1, 0, 0, 0, 0],\n",
       "[0, 0, 0, 1, 0, 0, 0],\n",
       "[0, 0, 0, 0, 1, 0, 0],\n",
       "[0, 0, 0, 0, 0, 1, 0],\n",
       "[0, 0, 0, 0, 0, 0, 1],\n",
       "[0, 0, 0, 0, 0, 0, 0]])"
      ]
     },
     "execution_count": 8,
     "metadata": {},
     "output_type": "execute_result"
    }
   ],
   "source": [
    "N = sp.Matrix([[sp.zeros(D)[:, 0]] + sp.eye(D)[:, :-1].columnspace()])\n",
    "J = N + +lam * sp.eye(D)\n",
    "N"
   ]
  },
  {
   "cell_type": "code",
   "execution_count": 9,
   "metadata": {},
   "outputs": [
    {
     "name": "stdout",
     "output_type": "stream",
     "text": [
      "\\left[\\begin{matrix}\n",
      "\\lambda & 1 & 0 & 0 & 0 & 0 & 0\n",
      "\\\\\n",
      "0 & \\lambda & 1 & 0 & 0 & 0 & 0\n",
      "\\\\\n",
      "0 & 0 & \\lambda & 1 & 0 & 0 & 0\n",
      "\\\\\n",
      "0 & 0 & 0 & \\lambda & 1 & 0 & 0\n",
      "\\\\\n",
      "0 & 0 & 0 & 0 & \\lambda & 1 & 0\n",
      "\\\\\n",
      "0 & 0 & 0 & 0 & 0 & \\lambda & 1\n",
      "\\\\\n",
      "0 & 0 & 0 & 0 & 0 & 0 & \\lambda\\end{matrix}\n",
      "\\right]\n"
     ]
    }
   ],
   "source": [
    "print_nicer_latex(J)"
   ]
  },
  {
   "cell_type": "code",
   "execution_count": 10,
   "metadata": {},
   "outputs": [
    {
     "name": "stdout",
     "output_type": "stream",
     "text": [
      "\\left[\\begin{matrix}\n",
      "0 & 1 & 0 & 0 & 0 & 0 & 0\n",
      "\\\\\n",
      "0 & 0 & 1 & 0 & 0 & 0 & 0\n",
      "\\\\\n",
      "0 & 0 & 0 & 1 & 0 & 0 & 0\n",
      "\\\\\n",
      "0 & 0 & 0 & 0 & 1 & 0 & 0\n",
      "\\\\\n",
      "0 & 0 & 0 & 0 & 0 & 1 & 0\n",
      "\\\\\n",
      "0 & 0 & 0 & 0 & 0 & 0 & 1\n",
      "\\\\\n",
      "0 & 0 & 0 & 0 & 0 & 0 & 0\\end{matrix}\n",
      "\\right]\n"
     ]
    }
   ],
   "source": [
    "print_nicer_latex(N)"
   ]
  },
  {
   "cell_type": "code",
   "execution_count": 11,
   "metadata": {},
   "outputs": [],
   "source": [
    "m, k, n, i = sp.symbols([\"m\", \"k\", \"n\", \"i\"])\n",
    "\n",
    "\n",
    "def return_J_m_i_k(J_power, basis_idx, row_idx, dim_V):\n",
    "    elemment = sp.binomial(J_power, basis_idx - row_idx) * lam ** (dim_V + row_idx - basis_idx)\n",
    "    return elemment"
   ]
  },
  {
   "cell_type": "code",
   "execution_count": null,
   "metadata": {},
   "outputs": [
    {
     "data": {
      "text/latex": [
       "$\\displaystyle \\lambda^{i - k + n} {\\binom{m}{- i + k}}$"
      ],
      "text/plain": [
       "\\lambda**(i - k + n)*binomial(m, -i + k)"
      ]
     },
     "execution_count": 12,
     "metadata": {},
     "output_type": "execute_result"
    }
   ],
   "source": [
    "return_J_m_i_k(m, k, i, n)"
   ]
  },
  {
   "cell_type": "code",
   "execution_count": 15,
   "metadata": {},
   "outputs": [
    {
     "data": {
      "text/latex": [
       "$\\displaystyle \\vdots$"
      ],
      "text/plain": [
       "\\vdots"
      ]
     },
     "execution_count": 15,
     "metadata": {},
     "output_type": "execute_result"
    }
   ],
   "source": [
    "sp.symbols(r\"\\vdots\")"
   ]
  },
  {
   "cell_type": "code",
   "execution_count": 65,
   "metadata": {},
   "outputs": [],
   "source": [
    "def return_J_m_i_k(J_power, basis_idx, row_idx, dim_V):\n",
    "    if row_idx == \"dots\":\n",
    "        return sp.symbols(r\"\\vdots\")\n",
    "    elif basis_idx == \"dots\":\n",
    "        return sp.symbols(r\"\\ldots\")\n",
    "    \n",
    "    # elif row_idx > basis_idx:\n",
    "    #     return sp.symbols(\"0\")\n",
    "    else:\n",
    "        elemment = sp.binomial(J_power, basis_idx - row_idx) * lam ** (dim_V + row_idx - basis_idx)\n",
    "        return elemment"
   ]
  },
  {
   "cell_type": "code",
   "execution_count": 68,
   "metadata": {},
   "outputs": [],
   "source": [
    "rows = [1, 2, 3, \"dots\", i - 1, i, i + 1, \"dots\", n - 1, n]\n",
    "columns = [1, 2, 3, \"dots\", k - 1, k, k + 1, \"dots\", n - 1, n]"
   ]
  },
  {
   "cell_type": "code",
   "execution_count": 70,
   "metadata": {},
   "outputs": [
    {
     "data": {
      "text/latex": [
       "$\\displaystyle \\left[\\begin{matrix}\\lambda^{n} & \\lambda^{n - 1} m & \\lambda^{n - 2} {\\binom{m}{2}} & \\ldots & \\lambda^{- k + n + 2} {\\binom{m}{k - 2}} & \\lambda^{- k + n + 1} {\\binom{m}{k - 1}} & \\lambda^{- k + n} {\\binom{m}{k}} & \\ldots & \\lambda^{2} {\\binom{m}{n - 2}} & \\lambda {\\binom{m}{n - 1}}\\\\0 & \\lambda^{n} & \\lambda^{n - 1} m & \\ldots & \\lambda^{- k + n + 3} {\\binom{m}{k - 3}} & \\lambda^{- k + n + 2} {\\binom{m}{k - 2}} & \\lambda^{- k + n + 1} {\\binom{m}{k - 1}} & \\ldots & \\lambda^{3} {\\binom{m}{n - 3}} & \\lambda^{2} {\\binom{m}{n - 2}}\\\\0 & 0 & \\lambda^{n} & \\ldots & \\lambda^{- k + n + 4} {\\binom{m}{k - 4}} & \\lambda^{- k + n + 3} {\\binom{m}{k - 3}} & \\lambda^{- k + n + 2} {\\binom{m}{k - 2}} & \\ldots & \\lambda^{4} {\\binom{m}{n - 4}} & \\lambda^{3} {\\binom{m}{n - 3}}\\\\\\vdots & \\vdots & \\vdots & \\vdots & \\vdots & \\vdots & \\vdots & \\vdots & \\vdots & \\vdots\\\\0 & 0 & 0 & 0 & \\lambda^{i - k + n} {\\binom{m}{- i + k}} & \\lambda^{i - k + n - 1} {\\binom{m}{- i + k + 1}} & \\lambda^{i - k + n - 2} {\\binom{m}{- i + k + 2}} & \\ldots & \\lambda^{i} {\\binom{m}{- i + n}} & \\lambda^{i - 1} {\\binom{m}{- i + n + 1}}\\\\0 & 0 & 0 & 0 & 0 & \\lambda^{i - k + n} {\\binom{m}{- i + k}} & \\lambda^{i - k + n - 1} {\\binom{m}{- i + k + 1}} & \\ldots & \\lambda^{i + 1} {\\binom{m}{- i + n - 1}} & \\lambda^{i} {\\binom{m}{- i + n}}\\\\0 & 0 & 0 & 0 & 0 & 0 & \\lambda^{i - k + n} {\\binom{m}{- i + k}} & \\ldots & \\lambda^{i + 2} {\\binom{m}{- i + n - 2}} & \\lambda^{i + 1} {\\binom{m}{- i + n - 1}}\\\\\\vdots & \\vdots & \\vdots & \\vdots & \\vdots & \\vdots & \\vdots & \\vdots & \\vdots & \\vdots\\\\0 & 0 & 0 & 0 & 0 & 0 & 0 & 0 & \\lambda^{n} & \\lambda^{n - 1} m\\\\0 & 0 & 0 & 0 & 0 & 0 & 0 & 0 & 0 & \\lambda^{n}\\end{matrix}\\right]$"
      ],
      "text/plain": [
       "Matrix([\n",
       "[\\lambda**n, \\lambda**(n - 1)*m, \\lambda**(n - 2)*binomial(m, 2), \\ldots, \\lambda**(-k + n + 2)*binomial(m, k - 2),         \\lambda**(-k + n + 1)*binomial(m, k - 1),                 \\lambda**(-k + n)*binomial(m, k), \\ldots,            \\lambda**2*binomial(m, n - 2),               \\lambda*binomial(m, n - 1)],\n",
       "[         0,         \\lambda**n,              \\lambda**(n - 1)*m, \\ldots, \\lambda**(-k + n + 3)*binomial(m, k - 3),         \\lambda**(-k + n + 2)*binomial(m, k - 2),         \\lambda**(-k + n + 1)*binomial(m, k - 1), \\ldots,            \\lambda**3*binomial(m, n - 3),            \\lambda**2*binomial(m, n - 2)],\n",
       "[         0,                  0,                      \\lambda**n, \\ldots, \\lambda**(-k + n + 4)*binomial(m, k - 4),         \\lambda**(-k + n + 3)*binomial(m, k - 3),         \\lambda**(-k + n + 2)*binomial(m, k - 2), \\ldots,            \\lambda**4*binomial(m, n - 4),            \\lambda**3*binomial(m, n - 3)],\n",
       "[    \\vdots,             \\vdots,                          \\vdots, \\vdots,                                   \\vdots,                                           \\vdots,                                           \\vdots, \\vdots,                                   \\vdots,                                   \\vdots],\n",
       "[         0,                  0,                               0,      0, \\lambda**(i - k + n)*binomial(m, -i + k), \\lambda**(i - k + n - 1)*binomial(m, -i + k + 1), \\lambda**(i - k + n - 2)*binomial(m, -i + k + 2), \\ldots,           \\lambda**i*binomial(m, -i + n), \\lambda**(i - 1)*binomial(m, -i + n + 1)],\n",
       "[         0,                  0,                               0,      0,                                        0,         \\lambda**(i - k + n)*binomial(m, -i + k), \\lambda**(i - k + n - 1)*binomial(m, -i + k + 1), \\ldots, \\lambda**(i + 1)*binomial(m, -i + n - 1),           \\lambda**i*binomial(m, -i + n)],\n",
       "[         0,                  0,                               0,      0,                                        0,                                                0,         \\lambda**(i - k + n)*binomial(m, -i + k), \\ldots, \\lambda**(i + 2)*binomial(m, -i + n - 2), \\lambda**(i + 1)*binomial(m, -i + n - 1)],\n",
       "[    \\vdots,             \\vdots,                          \\vdots, \\vdots,                                   \\vdots,                                           \\vdots,                                           \\vdots, \\vdots,                                   \\vdots,                                   \\vdots],\n",
       "[         0,                  0,                               0,      0,                                        0,                                                0,                                                0,      0,                               \\lambda**n,                       \\lambda**(n - 1)*m],\n",
       "[         0,                  0,                               0,      0,                                        0,                                                0,                                                0,      0,                                        0,                               \\lambda**n]])"
      ]
     },
     "execution_count": 70,
     "metadata": {},
     "output_type": "execute_result"
    }
   ],
   "source": [
    "J_m = sp.Matrix(\n",
    "    [\n",
    "        [\n",
    "            return_J_m_i_k(J_power=m, basis_idx=col, row_idx=row, dim_V=n)\n",
    "            if (row_idx <= col_idx or row == \"dots\")\n",
    "            else 0\n",
    "            for col_idx, col in enumerate(columns)\n",
    "        ]\n",
    "        for row_idx, row in enumerate(rows)\n",
    "    ]\n",
    ")\n",
    "\n",
    "J_m"
   ]
  },
  {
   "cell_type": "code",
   "execution_count": 82,
   "metadata": {},
   "outputs": [
    {
     "name": "stdout",
     "output_type": "stream",
     "text": [
      "\\left[\\begin{matrix}\n",
      "\\lambda^{n} & \\lambda^{n - 1} m & \\lambda^{n - 2} {\\binom{m}{2}} & \\ldots & \\lambda^{- k + n + 2} {\\binom{m}{k - 2}} & \\lambda^{- k + n + 1} {\\binom{m}{k - 1}} & \\lambda^{- k + n} {\\binom{m}{k}} & \\ldots & \\lambda^{2} {\\binom{m}{n - 2}} & \\lambda {\\binom{m}{n - 1}}\n",
      "\\\\\n",
      "0 & \\lambda^{n} & \\lambda^{n - 1} m & \\ldots & \\lambda^{- k + n + 3} {\\binom{m}{k - 3}} & \\lambda^{- k + n + 2} {\\binom{m}{k - 2}} & \\lambda^{- k + n + 1} {\\binom{m}{k - 1}} & \\ldots & \\lambda^{3} {\\binom{m}{n - 3}} & \\lambda^{2} {\\binom{m}{n - 2}}\n",
      "\\\\\n",
      "0 & 0 & \\lambda^{n} & \\ldots & \\lambda^{- k + n + 4} {\\binom{m}{k - 4}} & \\lambda^{- k + n + 3} {\\binom{m}{k - 3}} & \\lambda^{- k + n + 2} {\\binom{m}{k - 2}} & \\ldots & \\lambda^{4} {\\binom{m}{n - 4}} & \\lambda^{3} {\\binom{m}{n - 3}}\n",
      "\\\\\n",
      "\\vdots & \\vdots & \\vdots & \\vdots & \\vdots & \\vdots & \\vdots & \\vdots & \\vdots & \\vdots\n",
      "\\\\\n",
      "0 & 0 & 0 & 0 & \\lambda^{i - k + n} {\\binom{m}{- i + k}} & \\lambda^{i - k + n - 1} {\\binom{m}{- i + k + 1}} & \\lambda^{i - k + n - 2} {\\binom{m}{- i + k + 2}} & \\ldots & \\lambda^{i} {\\binom{m}{- i + n}} & \\lambda^{i - 1} {\\binom{m}{- i + n + 1}}\n",
      "\\\\\n",
      "0 & 0 & 0 & 0 & 0 & \\lambda^{i - k + n} {\\binom{m}{- i + k}} & \\lambda^{i - k + n - 1} {\\binom{m}{- i + k + 1}} & \\ldots & \\lambda^{i + 1} {\\binom{m}{- i + n - 1}} & \\lambda^{i} {\\binom{m}{- i + n}}\n",
      "\\\\\n",
      "0 & 0 & 0 & 0 & 0 & 0 & \\lambda^{i - k + n} {\\binom{m}{- i + k}} & \\ldots & \\lambda^{i + 2} {\\binom{m}{- i + n - 2}} & \\lambda^{i + 1} {\\binom{m}{- i + n - 1}}\n",
      "\\\\\n",
      "\\vdots & \\vdots & \\vdots & \\vdots & \\vdots & \\vdots & \\vdots & \\vdots & \\vdots & \\vdots\n",
      "\\\\\n",
      "0 & 0 & 0 & 0 & 0 & 0 & 0 & 0 & \\lambda^{n} & \\lambda^{n - 1} m\n",
      "\\\\\n",
      "0 & 0 & 0 & 0 & 0 & 0 & 0 & 0 & 0 & \\lambda^{n}\\end{matrix}\n",
      "\\right]\n"
     ]
    }
   ],
   "source": [
    "print_nicer_latex(J_m)"
   ]
  },
  {
   "cell_type": "code",
   "execution_count": 81,
   "metadata": {},
   "outputs": [
    {
     "name": "stderr",
     "output_type": "stream",
     "text": [
      "C:\\Users\\bakej\\AppData\\Local\\Temp\\ipykernel_44552\\1162483013.py:1: SymPyDeprecationWarning: \n",
      "\n",
      "non-Expr objects in a Matrix is deprecated. Matrix represents\n",
      "a mathematical matrix. To represent a container of non-numeric\n",
      "entities, Use a list of lists, TableForm, NumPy array, or some\n",
      "other data structure instead.\n",
      "\n",
      "See https://docs.sympy.org/latest/explanation/active-deprecations.html#deprecated-non-expr-in-matrix\n",
      "for details.\n",
      "\n",
      "This has been deprecated since SymPy version 1.9. It\n",
      "will be removed in a future version of SymPy.\n",
      "\n",
      "  sp.Matrix([[(row, col) for col_idx, col in enumerate(columns)] for row_idx, row in enumerate(rows)])\n"
     ]
    },
    {
     "data": {
      "text/latex": [
       "$\\displaystyle \\left[\\begin{matrix}\\left( 1, \\  1\\right) & \\left( 1, \\  2\\right) & \\left( 1, \\  3\\right) & \\left( 1, \\  dots\\right) & \\left( 1, \\  k - 1\\right) & \\left( 1, \\  k\\right) & \\left( 1, \\  k + 1\\right) & \\left( 1, \\  dots\\right) & \\left( 1, \\  n - 1\\right) & \\left( 1, \\  n\\right)\\\\\\left( 2, \\  1\\right) & \\left( 2, \\  2\\right) & \\left( 2, \\  3\\right) & \\left( 2, \\  dots\\right) & \\left( 2, \\  k - 1\\right) & \\left( 2, \\  k\\right) & \\left( 2, \\  k + 1\\right) & \\left( 2, \\  dots\\right) & \\left( 2, \\  n - 1\\right) & \\left( 2, \\  n\\right)\\\\\\left( 3, \\  1\\right) & \\left( 3, \\  2\\right) & \\left( 3, \\  3\\right) & \\left( 3, \\  dots\\right) & \\left( 3, \\  k - 1\\right) & \\left( 3, \\  k\\right) & \\left( 3, \\  k + 1\\right) & \\left( 3, \\  dots\\right) & \\left( 3, \\  n - 1\\right) & \\left( 3, \\  n\\right)\\\\\\left( dots, \\  1\\right) & \\left( dots, \\  2\\right) & \\left( dots, \\  3\\right) & \\left( dots, \\  dots\\right) & \\left( dots, \\  k - 1\\right) & \\left( dots, \\  k\\right) & \\left( dots, \\  k + 1\\right) & \\left( dots, \\  dots\\right) & \\left( dots, \\  n - 1\\right) & \\left( dots, \\  n\\right)\\\\\\left( i - 1, \\  1\\right) & \\left( i - 1, \\  2\\right) & \\left( i - 1, \\  3\\right) & \\left( i - 1, \\  dots\\right) & \\left( i - 1, \\  k - 1\\right) & \\left( i - 1, \\  k\\right) & \\left( i - 1, \\  k + 1\\right) & \\left( i - 1, \\  dots\\right) & \\left( i - 1, \\  n - 1\\right) & \\left( i - 1, \\  n\\right)\\\\\\left( i, \\  1\\right) & \\left( i, \\  2\\right) & \\left( i, \\  3\\right) & \\left( i, \\  dots\\right) & \\left( i, \\  k - 1\\right) & \\left( i, \\  k\\right) & \\left( i, \\  k + 1\\right) & \\left( i, \\  dots\\right) & \\left( i, \\  n - 1\\right) & \\left( i, \\  n\\right)\\\\\\left( i + 1, \\  1\\right) & \\left( i + 1, \\  2\\right) & \\left( i + 1, \\  3\\right) & \\left( i + 1, \\  dots\\right) & \\left( i + 1, \\  k - 1\\right) & \\left( i + 1, \\  k\\right) & \\left( i + 1, \\  k + 1\\right) & \\left( i + 1, \\  dots\\right) & \\left( i + 1, \\  n - 1\\right) & \\left( i + 1, \\  n\\right)\\\\\\left( dots, \\  1\\right) & \\left( dots, \\  2\\right) & \\left( dots, \\  3\\right) & \\left( dots, \\  dots\\right) & \\left( dots, \\  k - 1\\right) & \\left( dots, \\  k\\right) & \\left( dots, \\  k + 1\\right) & \\left( dots, \\  dots\\right) & \\left( dots, \\  n - 1\\right) & \\left( dots, \\  n\\right)\\\\\\left( n - 1, \\  1\\right) & \\left( n - 1, \\  2\\right) & \\left( n - 1, \\  3\\right) & \\left( n - 1, \\  dots\\right) & \\left( n - 1, \\  k - 1\\right) & \\left( n - 1, \\  k\\right) & \\left( n - 1, \\  k + 1\\right) & \\left( n - 1, \\  dots\\right) & \\left( n - 1, \\  n - 1\\right) & \\left( n - 1, \\  n\\right)\\\\\\left( n, \\  1\\right) & \\left( n, \\  2\\right) & \\left( n, \\  3\\right) & \\left( n, \\  dots\\right) & \\left( n, \\  k - 1\\right) & \\left( n, \\  k\\right) & \\left( n, \\  k + 1\\right) & \\left( n, \\  dots\\right) & \\left( n, \\  n - 1\\right) & \\left( n, \\  n\\right)\\end{matrix}\\right]$"
      ],
      "text/plain": [
       "Matrix([\n",
       "[    (1, 1),     (1, 2),     (1, 3),     (1, dots),     (1, k - 1),     (1, k),     (1, k + 1),     (1, dots),     (1, n - 1),     (1, n)],\n",
       "[    (2, 1),     (2, 2),     (2, 3),     (2, dots),     (2, k - 1),     (2, k),     (2, k + 1),     (2, dots),     (2, n - 1),     (2, n)],\n",
       "[    (3, 1),     (3, 2),     (3, 3),     (3, dots),     (3, k - 1),     (3, k),     (3, k + 1),     (3, dots),     (3, n - 1),     (3, n)],\n",
       "[ (dots, 1),  (dots, 2),  (dots, 3),  (dots, dots),  (dots, k - 1),  (dots, k),  (dots, k + 1),  (dots, dots),  (dots, n - 1),  (dots, n)],\n",
       "[(i - 1, 1), (i - 1, 2), (i - 1, 3), (i - 1, dots), (i - 1, k - 1), (i - 1, k), (i - 1, k + 1), (i - 1, dots), (i - 1, n - 1), (i - 1, n)],\n",
       "[    (i, 1),     (i, 2),     (i, 3),     (i, dots),     (i, k - 1),     (i, k),     (i, k + 1),     (i, dots),     (i, n - 1),     (i, n)],\n",
       "[(i + 1, 1), (i + 1, 2), (i + 1, 3), (i + 1, dots), (i + 1, k - 1), (i + 1, k), (i + 1, k + 1), (i + 1, dots), (i + 1, n - 1), (i + 1, n)],\n",
       "[ (dots, 1),  (dots, 2),  (dots, 3),  (dots, dots),  (dots, k - 1),  (dots, k),  (dots, k + 1),  (dots, dots),  (dots, n - 1),  (dots, n)],\n",
       "[(n - 1, 1), (n - 1, 2), (n - 1, 3), (n - 1, dots), (n - 1, k - 1), (n - 1, k), (n - 1, k + 1), (n - 1, dots), (n - 1, n - 1), (n - 1, n)],\n",
       "[    (n, 1),     (n, 2),     (n, 3),     (n, dots),     (n, k - 1),     (n, k),     (n, k + 1),     (n, dots),     (n, n - 1),     (n, n)]])"
      ]
     },
     "execution_count": 81,
     "metadata": {},
     "output_type": "execute_result"
    }
   ],
   "source": [
    "sp.Matrix([[(row, col) for col_idx, col in enumerate(columns)] for row_idx, row in enumerate(rows)])"
   ]
  },
  {
   "cell_type": "code",
   "execution_count": null,
   "metadata": {},
   "outputs": [
    {
     "data": {
      "text/latex": [
       "$\\displaystyle \\lambda^{- k + n + 1} {\\binom{m}{k - 1}}$"
      ],
      "text/plain": [
       "\\lambda**(-k + n + 1)*binomial(m, k - 1)"
      ]
     },
     "metadata": {},
     "output_type": "display_data"
    },
    {
     "data": {
      "text/latex": [
       "$\\displaystyle \\lambda^{- k + n + 2} {\\binom{m}{k - 2}}$"
      ],
      "text/plain": [
       "\\lambda**(-k + n + 2)*binomial(m, k - 2)"
      ]
     },
     "metadata": {},
     "output_type": "display_data"
    },
    {
     "data": {
      "text/latex": [
       "$\\displaystyle \\lambda^{- k + n + 3} {\\binom{m}{k - 3}}$"
      ],
      "text/plain": [
       "\\lambda**(-k + n + 3)*binomial(m, k - 3)"
      ]
     },
     "metadata": {},
     "output_type": "display_data"
    },
    {
     "data": {
      "text/latex": [
       "$\\displaystyle \\vdots$"
      ],
      "text/plain": [
       "\\vdots"
      ]
     },
     "metadata": {},
     "output_type": "display_data"
    },
    {
     "data": {
      "text/latex": [
       "$\\displaystyle \\lambda^{i - k + n} {\\binom{m}{- i + k}}$"
      ],
      "text/plain": [
       "\\lambda**(i - k + n)*binomial(m, -i + k)"
      ]
     },
     "metadata": {},
     "output_type": "display_data"
    },
    {
     "data": {
      "text/latex": [
       "$\\displaystyle \\vdots$"
      ],
      "text/plain": [
       "\\vdots"
      ]
     },
     "metadata": {},
     "output_type": "display_data"
    },
    {
     "data": {
      "text/latex": [
       "$\\displaystyle \\lambda^{n}$"
      ],
      "text/plain": [
       "\\lambda**n"
      ]
     },
     "metadata": {},
     "output_type": "display_data"
    },
    {
     "data": {
      "text/latex": [
       "$\\displaystyle 0$"
      ],
      "text/plain": [
       "0"
      ]
     },
     "metadata": {},
     "output_type": "display_data"
    },
    {
     "data": {
      "text/latex": [
       "$\\displaystyle 0$"
      ],
      "text/plain": [
       "0"
      ]
     },
     "metadata": {},
     "output_type": "display_data"
    }
   ],
   "source": [
    "for row_idx in [1, 2, 3, \"dots\", i, \"dots\", k, \"zero\", \"zero\"]:\n",
    "    if row_idx == \"dots\":\n",
    "        display(sp.symbols(r\"\\vdots\"))\n",
    "    elif row_idx == \"zero\":\n",
    "        display(sp.symbols(\"0\"))\n",
    "    else:\n",
    "        display(return_J_m_i_k(J_power=m, basis_idx=k, row_idx=row_idx, dim_V=n))"
   ]
  }
 ],
 "metadata": {
  "kernelspec": {
   "display_name": ".venv",
   "language": "python",
   "name": "python3"
  },
  "language_info": {
   "codemirror_mode": {
    "name": "ipython",
    "version": 3
   },
   "file_extension": ".py",
   "mimetype": "text/x-python",
   "name": "python",
   "nbconvert_exporter": "python",
   "pygments_lexer": "ipython3",
   "version": "3.12.5"
  }
 },
 "nbformat": 4,
 "nbformat_minor": 2
}
